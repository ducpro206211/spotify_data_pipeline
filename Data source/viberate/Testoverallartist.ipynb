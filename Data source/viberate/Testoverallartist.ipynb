{
 "cells": [
  {
   "cell_type": "code",
   "execution_count": 8,
   "metadata": {},
   "outputs": [
    {
     "name": "stdout",
     "output_type": "stream",
     "text": [
      "✅ Dữ liệu nhận được thành công!\n",
      "{'api_version': 'v2.79.4', 'data': {'uuid': '1512abf5-efdb-4699-9085-f3ed82e4e356', 'slug': 'kenshi-yonezu', 'name': 'Kenshi Yonezu', 'image': 'https://viberate-upload.ams3.cdn.digitaloceanspaces.com/prod/entity/artist/kenshi-yonezu-aVYyk', 'country': {'code': 'JP', 'iso3': 'JPN', 'slug': 'japan', 'name': 'Japan', 'coordinates': {'lat': 36, 'lng': 138}, 'continent_code': 'AS'}, 'genre': {'id': 2, 'slug': 'pop', 'name': 'Pop', 'subgenres': None}, 'subgenres': [{'id': 172, 'slug': 'j-pop', 'name': 'j-pop'}, {'id': 50, 'slug': 'pop-rock', 'name': 'Pop Rock'}], 'rank': 617, 'rank_categories': {'current': {'overall': 617, 'country': 7, 'genre': 239, 'subgenre_1': 4, 'subgenre_2': 41, 'subgenre_3': None}, 'previous': {'overall': 598, 'country': 7, 'genre': 232, 'subgenre_1': 4, 'subgenre_2': 38, 'subgenre_3': None}}, 'bookmarked': False, 'verified': True, 'claimed': False, 'trending': True, 'badges': None, 'social_links': [{'channel': 'amazon_music', 'link': 'https://music.amazon.com/artists/B00E48Z96Y'}, {'channel': 'tidal', 'link': 'https://tidal.com/browse/artist/5527993'}, {'channel': 'napster', 'link': 'https://us.napster.com/artist/kenshi-yonezu'}, {'channel': 'google_plus', 'link': 'https://plus.google.com/u/0/+KenshiYonezuHACHI'}, {'channel': 'youtube', 'link': 'https://www.youtube.com/user/08yakari'}, {'channel': 'shazam', 'link': 'https://www.shazam.com/artist/%E7%B1%B3%E6%B4%A5%E7%8E%84%E5%B8%AB/530814268'}, {'channel': 'twitter', 'link': 'https://twitter.com/hachi_08'}, {'channel': 'spotify', 'link': 'https://open.spotify.com/artist/1snhtMLeb2DYoMOcVbb8iB'}, {'channel': 'deezer', 'link': 'https://www.deezer.com/en/artist/5289039'}, {'channel': 'itunes', 'link': 'https://itunes.apple.com/jp/artist/%E7%B1%B3%E6%B4%A5%E7%8E%84%E5%B8%AB/530814268'}, {'channel': 'home_page', 'link': 'https://kenshiyonezu.jp/all/'}, {'channel': 'bandsintown', 'link': 'https://www.bandsintown.com/a/6145485-'}, {'channel': 'tiktok', 'link': 'https://www.tiktok.com/@kenshiyonezu_08'}, {'channel': 'instagram', 'link': 'https://www.instagram.com/hachi_08/'}, {'channel': 'bandcamp', 'link': 'https://kenshiyonezu.bandcamp.com/'}], 'status': 'active', 'booking_available': False, 'contact_available': False, 'meta_image': 'https://viberate.s3-eu-west-1.amazonaws.com/share/artist/kenshi-yonezu.jpg', 'hot_on_charts': None, 'created_at': '2019-07-01T22:12:59Z', 'beatport_genres': None, 'channel_ranks': {'airplay': {'current': {'genre': 4506, 'country': 100, 'overall': 20573, 'subgenre_1': 57, 'subgenre_2': 1753}, 'previous': {'genre': 4601, 'country': 102, 'overall': 21110, 'subgenre_1': 58, 'subgenre_2': 1790}}, 'beatport': None, 'social': {'current': {'genre': 1496, 'country': 40, 'overall': 3607, 'subgenre_1': 31, 'subgenre_2': 127}, 'previous': {'genre': 1276, 'country': 34, 'overall': 2984, 'subgenre_1': 27, 'subgenre_2': 99}}, 'spotify': {'current': {'genre': 342, 'country': 5, 'overall': 953, 'subgenre_1': 3, 'subgenre_2': 78}, 'previous': {'genre': 354, 'country': 5, 'overall': 982, 'subgenre_1': 3, 'subgenre_2': 78}}, 'youtube': {'current': {'genre': 204, 'country': 5, 'overall': 473, 'subgenre_1': 4, 'subgenre_2': 21}, 'previous': {'genre': 207, 'country': 5, 'overall': 479, 'subgenre_1': 4, 'subgenre_2': 21}}}, 'analytics': {'airplay': True, 'audience': True, 'basic': True, 'beatport': False, 'overview': True, 'social': True, 'spotify': True, 'youtube': True, 'shazam': True, 'soundcloud': True, 'deezer': True, 'playlists': True, 'apple-playlists': True, 'facebook': False, 'instagram': True, 'tiktok': True, 'twitter': True, 'events': False, 'tracks': True, 'network': True}}}\n"
     ]
    }
   ],
   "source": [
    "import requests\n",
    "\n",
    "# Fake headers để giả lập trình duyệt thật\n",
    "headers = {\n",
    "    \"User-Agent\": \"Mozilla/5.0 (Windows NT 10.0; Win64; x64) AppleWebKit/537.36 (KHTML, like Gecko) Chrome/123.0.0.0 Safari/537.36\",\n",
    "    \"Accept\": \"application/json, text/plain, */*\",\n",
    "    \"Accept-Language\": \"en-US,en;q=0.9\",\n",
    "    \"Referer\": \"https://www.viberate.com/\",\n",
    "    \"Origin\": \"https://www.viberate.com\",\n",
    "    \"Connection\": \"keep-alive\",\n",
    "}\n",
    "\n",
    "# Fake cookies nếu cần (chỉ là ví dụ, có thể không cần thiết nếu không có session check)\n",
    "cookies = {\n",
    "    \"sessionid\": \"fake-session-id-1234567890\",\n",
    "    \"csrftoken\": \"fake-csrf-token-abcdefg\"\n",
    "}\n",
    "\n",
    "url = \"https://api.viberate.com/api/v1/artist/kenshi-yonezu/\"\n",
    "\n",
    "response = requests.get(url, headers=headers, cookies=cookies)\n",
    "\n",
    "if response.status_code == 200:\n",
    "    print(\"✅ Dữ liệu nhận được thành công!\")\n",
    "    data = response.json()\n",
    "    # In thử vài dòng đầu\n",
    "    print(data if isinstance(data, dict) else data[:3])\n",
    "else:\n",
    "    print(f\"❌ Request thất bại với mã lỗi {response.status_code}\")\n"
   ]
  },
  {
   "cell_type": "code",
   "execution_count": 2,
   "metadata": {},
   "outputs": [
    {
     "name": "stdout",
     "output_type": "stream",
     "text": [
      "✅ Dữ liệu nhận được thành công!\n",
      "{'api_version': 'v2.79.4', 'data': {'uuid': '5aad8fbb-7c70-4f99-acc5-4253d4f2fe36', 'slug': 'yuuri', 'name': 'Yuuri', 'image': 'https://viberate-upload.ams3.cdn.digitaloceanspaces.com/prod/entity/artist/yuuri-XDPBq', 'country': {'code': 'JP', 'iso3': 'JPN', 'slug': 'japan', 'name': 'Japan', 'coordinates': {'lat': 36, 'lng': 138}, 'continent_code': 'AS'}, 'genre': {'id': 2, 'slug': 'pop', 'name': 'Pop', 'subgenres': None}, 'subgenres': [{'id': 172, 'slug': 'j-pop', 'name': 'j-pop'}], 'rank': 1757, 'rank_categories': {'current': {'overall': 1757, 'country': 24, 'genre': 603, 'subgenre_1': 17, 'subgenre_2': None, 'subgenre_3': None}, 'previous': {'overall': 1873, 'country': 26, 'genre': 650, 'subgenre_1': 19, 'subgenre_2': None, 'subgenre_3': None}}, 'bookmarked': False, 'verified': True, 'claimed': False, 'trending': False, 'badges': None, 'social_links': [{'channel': 'home_page', 'link': 'https://www.yuuriweb.com/'}, {'channel': 'twitter', 'link': 'https://twitter.com/yuuri_official'}, {'channel': 'youtube', 'link': 'https://www.youtube.com/channel/UC7MvTslTWkE1HKNYkXiGv1Q'}, {'channel': 'itunes', 'link': 'https://music.apple.com/us/artist/yuri/1489331027'}, {'channel': 'spotify', 'link': 'https://open.spotify.com/artist/0ixzjrK1wkN2zWBXt3VW3W'}, {'channel': 'deezer', 'link': 'https://www.deezer.com/en/artist/52253792'}, {'channel': 'tidal', 'link': 'https://tidal.com/browse/artist/19729483'}, {'channel': 'napster', 'link': 'https://us.napster.com/artist/yuuri'}, {'channel': 'amazon_music', 'link': 'https://music.amazon.com/artists/B0857K74GG'}, {'channel': 'tiktok', 'link': 'https://www.tiktok.com/@yuuri_music_official'}, {'channel': 'instagram', 'link': 'https://www.instagram.com/yuuri__music__official/'}, {'channel': 'shazam', 'link': 'https://www.shazam.com/artist/yuri/1489331027'}], 'status': 'active', 'booking_available': False, 'contact_available': False, 'meta_image': 'https://viberate-upload.ams3.cdn.digitaloceanspaces.com/prod/share/artist/fb-artist.png', 'hot_on_charts': None, 'created_at': '2021-01-14T02:49:28Z', 'beatport_genres': None, 'channel_ranks': {'airplay': {'current': {'genre': 38337, 'country': 2268, 'overall': 217279, 'subgenre_1': 947, 'subgenre_2': None}, 'previous': {'genre': 37882, 'country': 2241, 'overall': 215432, 'subgenre_1': 934, 'subgenre_2': None}}, 'beatport': None, 'social': {'current': {'genre': 1893, 'country': 55, 'overall': 4659, 'subgenre_1': 43, 'subgenre_2': None}, 'previous': {'genre': 2170, 'country': 64, 'overall': 5291, 'subgenre_1': 56, 'subgenre_2': None}}, 'spotify': {'current': {'genre': 763, 'country': 20, 'overall': 2241, 'subgenre_1': 14, 'subgenre_2': None}, 'previous': {'genre': 740, 'country': 20, 'overall': 2189, 'subgenre_1': 14, 'subgenre_2': None}}, 'youtube': {'current': {'genre': 717, 'country': 39, 'overall': 1860, 'subgenre_1': 31, 'subgenre_2': None}, 'previous': {'genre': 734, 'country': 37, 'overall': 1880, 'subgenre_1': 29, 'subgenre_2': None}}}, 'analytics': {'airplay': True, 'audience': True, 'basic': True, 'beatport': False, 'overview': True, 'social': True, 'spotify': True, 'youtube': True, 'shazam': True, 'soundcloud': False, 'deezer': True, 'playlists': True, 'apple-playlists': True, 'facebook': False, 'instagram': True, 'tiktok': True, 'twitter': True, 'events': True, 'tracks': True, 'network': True}}}\n"
     ]
    }
   ],
   "source": [
    "import requests\n",
    "\n",
    "# Fake headers để giả lập trình duyệt thật\n",
    "headers = {\n",
    "    \"User-Agent\": \"Mozilla/5.0 (Windows NT 10.0; Win64; x64) AppleWebKit/537.36 (KHTML, like Gecko) Chrome/123.0.0.0 Safari/537.36\",\n",
    "    \"Accept\": \"application/json, text/plain, */*\",\n",
    "    \"Accept-Language\": \"en-US,en;q=0.9\",\n",
    "    \"Referer\": \"https://www.viberate.com/\",\n",
    "    \"Origin\": \"https://www.viberate.com\",\n",
    "    \"Connection\": \"keep-alive\",\n",
    "}\n",
    "\n",
    "# Fake cookies nếu cần (chỉ là ví dụ, có thể không cần thiết nếu không có session check)\n",
    "cookies = {\n",
    "    \"sessionid\": \"fake-session-id-1234567890\",\n",
    "    \"csrftoken\": \"fake-csrf-token-abcdefg\"\n",
    "}\n",
    "\n",
    "url = \"https://api.viberate.com/api/v1/artist/yuuri/\"\n",
    "\n",
    "response = requests.get(url, headers=headers, cookies=cookies)\n",
    "\n",
    "if response.status_code == 200:\n",
    "    print(\"✅ Dữ liệu nhận được thành công!\")\n",
    "    data = response.json()\n",
    "    # In thử vài dòng đầu\n",
    "    print(data if isinstance(data, dict) else data[:3])\n",
    "else:\n",
    "    print(f\"❌ Request thất bại với mã lỗi {response.status_code}\")\n"
   ]
  },
  {
   "cell_type": "code",
   "execution_count": 10,
   "metadata": {},
   "outputs": [
    {
     "name": "stdout",
     "output_type": "stream",
     "text": [
      "✅ Lấy dữ liệu thành công\n",
      "[1] None\n",
      "[2] None\n",
      "[3] None\n"
     ]
    }
   ],
   "source": [
    "import requests\n",
    "\n",
    "url = \"https://api.viberate.com/api/v1/artist/yuuri/track/\"\n",
    "\n",
    "# Headers giả lập từ browser thật\n",
    "headers = {\n",
    "    \"authority\": \"api.viberate.com\",\n",
    "    \"method\": \"GET\",\n",
    "    \"scheme\": \"https\",\n",
    "    \"accept\": \"application/json, text/plain, */*\",\n",
    "    \"accept-encoding\": \"gzip, deflate, br, zstd\",\n",
    "    \"accept-language\": \"vi-VN,vi;q=0.6\",\n",
    "    \"origin\": \"https://app.viberate.com\",\n",
    "    \"referer\": \"https://app.viberate.com/\",\n",
    "    \"sec-ch-ua\": '\"Brave\";v=\"137\", \"Chromium\";v=\"137\", \"Not/A)Brand\";v=\"24\"',\n",
    "    \"sec-ch-ua-mobile\": \"?0\",\n",
    "    \"sec-ch-ua-platform\": '\"Windows\"',\n",
    "    \"sec-fetch-dest\": \"empty\",\n",
    "    \"sec-fetch-mode\": \"cors\",\n",
    "    \"sec-fetch-site\": \"same-site\",\n",
    "    \"sec-gpc\": \"1\",\n",
    "    \"user-agent\": \"Mozilla/5.0 (Windows NT 10.0; Win64; x64) AppleWebKit/537.36 (KHTML, like Gecko) Chrome/137.0.0.0 Safari/537.36\"\n",
    "}\n",
    "\n",
    "# Cookies thật (có vẻ bắt buộc để lấy được token truy cập)\n",
    "cookies = {\n",
    "    \"token-cookie\": \"Uf4B-wMBAQVUb2tlbgH-AfwAAQQBC0FjY2Vzc1Rva2VuAQwAAQlUb2tlblR5cGUBDAABDFJlZnJlc2hUb2tlbgEMAAEGRXhwaXJ5Af4BfAAAABL-AXsFAQEEVGltZQH-AXwAAAD_z_4B_AFXbjhhcmtQcVlfTGlDWmgxQk5hbUNZeTB2aTRPaVdST2NQd1lpN1RERGN0Yy5Ybnd1WGJhTXVfTDVpNEQyUHhXeGlHRDJDVlg5Z1EzdFNGM1VGMmsyTTVJAQZiZWFyZXIBV0g5MS1WZ0tYaFZ3V1FyaWhhQWlILXlULWE2cUkyWENmN285TVp1cHdMZ0kucW5RLUtHNzZ6LVJ4Q29iZ3hVOUJ6VUxXSDNUWWlyU1BVaDJ2Z05vS3JGSQEPAQAAAA7gyQLZAA7BSP__AA==\",\n",
    "    # Các cookie khác nếu cần\n",
    "}\n",
    "\n",
    "response = requests.get(url, headers=headers, cookies=cookies)\n",
    "\n",
    "if response.status_code == 200:\n",
    "    print(\"✅ Lấy dữ liệu thành công\")\n",
    "    data = response.json()\n",
    "    for i, track in enumerate(data.get(\"data\", [])[:3]):  # In thử 3 track đầu\n",
    "        print(f\"[{i+1}] {track.get('title')}\")\n",
    "else:\n",
    "    print(f\"❌ Request lỗi: {response.status_code}\")\n"
   ]
  },
  {
   "cell_type": "code",
   "execution_count": 13,
   "metadata": {},
   "outputs": [
    {
     "name": "stdout",
     "output_type": "stream",
     "text": [
      "✅ Lấy dữ liệu thành công\n"
     ]
    }
   ],
   "source": [
    "\n",
    "import requests\n",
    "\n",
    "url = \"https://api.viberate.com/api/v1/artist/yuuri/detail/music/charts/top/\"\n",
    "\n",
    "# Headers giả lập từ browser thật\n",
    "headers = {\n",
    "    \"authority\": \"api.viberate.com\",\n",
    "    \"method\": \"GET\",\n",
    "    \"scheme\": \"https\",\n",
    "    \"accept\": \"application/json, text/plain, */*\",\n",
    "    \"accept-encoding\": \"gzip, deflate, br, zstd\",\n",
    "    \"accept-language\": \"vi-VN,vi;q=0.6\",\n",
    "    \"origin\": \"https://app.viberate.com\",\n",
    "    \"referer\": \"https://app.viberate.com/\",\n",
    "    \"sec-ch-ua\": '\"Brave\";v=\"137\", \"Chromium\";v=\"137\", \"Not/A)Brand\";v=\"24\"',\n",
    "    \"sec-ch-ua-mobile\": \"?0\",\n",
    "    \"sec-ch-ua-platform\": '\"Windows\"',\n",
    "    \"sec-fetch-dest\": \"empty\",\n",
    "    \"sec-fetch-mode\": \"cors\",\n",
    "    \"sec-fetch-site\": \"same-site\",\n",
    "    \"sec-gpc\": \"1\",\n",
    "    \"user-agent\": \"Mozilla/5.0 (Windows NT 10.0; Win64; x64) AppleWebKit/537.36 (KHTML, like Gecko) Chrome/137.0.0.0 Safari/537.36\"\n",
    "}\n",
    "\n",
    "# Cookies thật (có vẻ bắt buộc để lấy được token truy cập)\n",
    "cookies = {\n",
    "    \"token-cookie\": \"Uf4B-wMBAQVUb2tlbgH-AfwAAQQBC0FjY2Vzc1Rva2VuAQwAAQlUb2tlblR5cGUBDAABDFJlZnJlc2hUb2tlbgEMAAEGRXhwaXJ5Af4BfAAAABL-AXsFAQEEVGltZQH-AXwAAAD_z_4B_AFXbjhhcmtQcVlfTGlDWmgxQk5hbUNZeTB2aTRPaVdST2NQd1lpN1RERGN0Yy5Ybnd1WGJhTXVfTDVpNEQyUHhXeGlHRDJDVlg5Z1EzdFNGM1VGMmsyTTVJAQZiZWFyZXIBV0g5MS1WZ0tYaFZ3V1FyaWhhQWlILXlULWE2cUkyWENmN285TVp1cHdMZ0kucW5RLUtHNzZ6LVJ4Q29iZ3hVOUJ6VUxXSDNUWWlyU1BVaDJ2Z05vS3JGSQEPAQAAAA7gyQLZAA7BSP__AA==\",\n",
    "    # Các cookie khác nếu cần\n",
    "}\n",
    "\n",
    "response = requests.get(url, headers=headers, cookies=cookies)\n",
    "\n",
    "if response.status_code == 200:\n",
    "    print(\"✅ Lấy dữ liệu thành công\")\n",
    "    data = response.json()\n",
    "    \n",
    "else:\n",
    "    print(f\"❌ Request lỗi: {response.status_code}\")\n"
   ]
  },
  {
   "cell_type": "code",
   "execution_count": 16,
   "metadata": {},
   "outputs": [
    {
     "name": "stdout",
     "output_type": "stream",
     "text": [
      "✅ Lấy dữ liệu thành công\n",
      "[1] Hoà Minzy\n",
      "[2] SON TUNG M-TP\n",
      "[3] Soobin Hoàng Sơn a.k.a SOOBIN\n"
     ]
    }
   ],
   "source": [
    "import requests\n",
    "\n",
    "url = \"https://api.viberate.com/api/v1/city/hanoi/analytics/views/top-artists/\"\n",
    "\n",
    "# Headers giả lập từ trình duyệt thật\n",
    "headers = {\n",
    "    \"authority\": \"api.viberate.com\",\n",
    "    \"method\": \"GET\",\n",
    "    \"scheme\": \"https\",\n",
    "    \"accept\": \"application/json, text/plain, */*\",\n",
    "    \"accept-encoding\": \"gzip, deflate, br, zstd\",\n",
    "    \"accept-language\": \"vi-VN,vi;q=0.6\",\n",
    "    \"origin\": \"https://app.viberate.com\",\n",
    "    \"referer\": \"https://app.viberate.com/\",\n",
    "    \"sec-ch-ua\": '\"Brave\";v=\"137\", \"Chromium\";v=\"137\", \"Not/A)Brand\";v=\"24\"',\n",
    "    \"sec-ch-ua-mobile\": \"?0\",\n",
    "    \"sec-ch-ua-platform\": '\"Windows\"',\n",
    "    \"sec-fetch-dest\": \"empty\",\n",
    "    \"sec-fetch-mode\": \"cors\",\n",
    "    \"sec-fetch-site\": \"same-site\",\n",
    "    \"sec-gpc\": \"1\",\n",
    "    \"user-agent\": \"Mozilla/5.0 (Windows NT 10.0; Win64; x64) AppleWebKit/537.36 (KHTML, like Gecko) Chrome/137.0.0.0 Safari/537.36\"\n",
    "}\n",
    "\n",
    "# Cookies thật\n",
    "cookies = {\n",
    "    \"token-cookie\": \"Uf4B-wMBAQVUb2tlbgH-AfwAAQQBC0FjY2Vzc1Rva2VuAQwAAQlUb2tlblR5cGUBDAABDFJlZnJlc2hUb2tlbgEMAAEGRXhwaXJ5Af4BfAAAABL-AXsFAQEEVGltZQH-AXwAAAD_z_4B_AFXbjhhcmtQcVlfTGlDWmgxQk5hbUNZeTB2aTRPaVdST2NQd1lpN1RERGN0Yy5Ybnd1WGJhTXVfTDVpNEQyUHhXeGlHRDJDVlg5Z1EzdFNGM1VGMmsyTTVJAQZiZWFyZXIBV0g5MS1WZ0tYaFZ3V1FyaWhhQWlILXlULWE2cUkyWENmN285TVp1cHdMZ0kucW5RLUtHNzZ6LVJ4Q29iZ3hVOUJ6VUxXSDNUWWlyU1BVaDJ2Z05vS3JGSQEPAQAAAA7gyQLZAA7BSP__AA==\",\n",
    "    # Các cookie khác nếu có\n",
    "}\n",
    "\n",
    "response = requests.get(url, headers=headers, cookies=cookies)\n",
    "\n",
    "if response.status_code == 200:\n",
    "    print(\"✅ Lấy dữ liệu thành công\")\n",
    "    data = response.json()\n",
    "    # In kết quả để kiểm tra\n",
    "    for i, artist in enumerate(data.get(\"data\", [])[:3]):  # In 3 top artists đầu\n",
    "        print(f\"[{i+1}] {artist.get('name')}\")\n",
    "else:\n",
    "    print(f\"❌ Request lỗi: {response.status_code}\")\n"
   ]
  },
  {
   "cell_type": "code",
   "execution_count": 17,
   "metadata": {},
   "outputs": [
    {
     "name": "stdout",
     "output_type": "stream",
     "text": [
      "✅ Lấy dữ liệu thành công\n",
      "[1] Bùi Anh Tuấn\n",
      "[2] Thanh Hưng\n",
      "[3] Nicky\n"
     ]
    }
   ],
   "source": [
    "import requests\n",
    "\n",
    "url = \"https://api.viberate.com/api/v1/city/hanoi/analytics/listeners/top-artists/\"\n",
    "\n",
    "# Headers giả lập từ trình duyệt thật\n",
    "headers = {\n",
    "    \"authority\": \"api.viberate.com\",\n",
    "    \"method\": \"GET\",\n",
    "    \"scheme\": \"https\",\n",
    "    \"accept\": \"application/json, text/plain, */*\",\n",
    "    \"accept-encoding\": \"gzip, deflate, br, zstd\",\n",
    "    \"accept-language\": \"vi-VN,vi;q=0.6\",\n",
    "    \"origin\": \"https://app.viberate.com\",\n",
    "    \"referer\": \"https://app.viberate.com/\",\n",
    "    \"sec-ch-ua\": '\"Brave\";v=\"137\", \"Chromium\";v=\"137\", \"Not/A)Brand\";v=\"24\"',\n",
    "    \"sec-ch-ua-mobile\": \"?0\",\n",
    "    \"sec-ch-ua-platform\": '\"Windows\"',\n",
    "    \"sec-fetch-dest\": \"empty\",\n",
    "    \"sec-fetch-mode\": \"cors\",\n",
    "    \"sec-fetch-site\": \"same-site\",\n",
    "    \"sec-gpc\": \"1\",\n",
    "    \"user-agent\": \"Mozilla/5.0 (Windows NT 10.0; Win64; x64) AppleWebKit/537.36 (KHTML, like Gecko) Chrome/137.0.0.0 Safari/537.36\"\n",
    "}\n",
    "\n",
    "# Cookies thật\n",
    "cookies = {\n",
    "    \"token-cookie\": \"Uf4B-wMBAQVUb2tlbgH-AfwAAQQBC0FjY2Vzc1Rva2VuAQwAAQlUb2tlblR5cGUBDAABDFJlZnJlc2hUb2tlbgEMAAEGRXhwaXJ5Af4BfAAAABL-AXsFAQEEVGltZQH-AXwAAAD_z_4B_AFXbjhhcmtQcVlfTGlDWmgxQk5hbUNZeTB2aTRPaVdST2NQd1lpN1RERGN0Yy5Ybnd1WGJhTXVfTDVpNEQyUHhXeGlHRDJDVlg5Z1EzdFNGM1VGMmsyTTVJAQZiZWFyZXIBV0g5MS1WZ0tYaFZ3V1FyaWhhQWlILXlULWE2cUkyWENmN285TVp1cHdMZ0kucW5RLUtHNzZ6LVJ4Q29iZ3hVOUJ6VUxXSDNUWWlyU1BVaDJ2Z05vS3JGSQEPAQAAAA7gyQLZAA7BSP__AA==\",\n",
    "    # Các cookie khác nếu có\n",
    "}\n",
    "\n",
    "response = requests.get(url, headers=headers, cookies=cookies)\n",
    "\n",
    "if response.status_code == 200:\n",
    "    print(\"✅ Lấy dữ liệu thành công\")\n",
    "    data = response.json()\n",
    "    # In kết quả để kiểm tra\n",
    "    for i, artist in enumerate(data.get(\"data\", [])[:3]):  # In 3 top artists đầu\n",
    "        print(f\"[{i+1}] {artist.get('name')}\")\n",
    "else:\n",
    "    print(f\"❌ Request lỗi: {response.status_code}\")\n"
   ]
  },
  {
   "cell_type": "code",
   "execution_count": null,
   "metadata": {},
   "outputs": [],
   "source": [
    "data"
   ]
  },
  {
   "cell_type": "code",
   "execution_count": 19,
   "metadata": {},
   "outputs": [
    {
     "name": "stdout",
     "output_type": "stream",
     "text": [
      "🔸 Kích thước JSON: 417476 bytes (407.69 KB)\n",
      "🔹 sys.getsizeof (chỉ ước lượng): 232 bytes\n"
     ]
    }
   ],
   "source": [
    "import json\n",
    "import sys\n",
    "\n",
    "# Giả lập dữ liệu JSON trả về\n",
    "json_data = {\n",
    "    \"artist\": \"Yuuri\",\n",
    "    \"tracks\": [\n",
    "        {\"title\": \"Betelgeuse\", \"duration\": 245},\n",
    "        {\"title\": \"Dry Flower\", \"duration\": 230},\n",
    "        {\"title\": \"Dried Flower\", \"duration\": 228},\n",
    "    ]\n",
    "}\n",
    "\n",
    "# Cách 1: Tính size khi chuyển sang bytes (thực tế hơn với API/crawl)\n",
    "json_bytes = json.dumps(data).encode('utf-8')\n",
    "size_bytes = len(json_bytes)\n",
    "print(f\"🔸 Kích thước JSON: {size_bytes} bytes ({size_bytes/1024:.2f} KB)\")\n",
    "\n",
    "# Cách 2 (phụ): Dùng sys.getsizeof (chỉ tương đối với object Python)\n",
    "print(f\"🔹 sys.getsizeof (chỉ ước lượng): {sys.getsizeof(data)} bytes\")\n"
   ]
  }
 ],
 "metadata": {
  "kernelspec": {
   "display_name": "Python 3",
   "language": "python",
   "name": "python3"
  },
  "language_info": {
   "codemirror_mode": {
    "name": "ipython",
    "version": 3
   },
   "file_extension": ".py",
   "mimetype": "text/x-python",
   "name": "python",
   "nbconvert_exporter": "python",
   "pygments_lexer": "ipython3",
   "version": "3.9.13"
  }
 },
 "nbformat": 4,
 "nbformat_minor": 2
}
