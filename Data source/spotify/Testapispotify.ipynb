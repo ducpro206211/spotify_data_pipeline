{
 "cells": [
  {
   "cell_type": "code",
   "execution_count": 3,
   "metadata": {},
   "outputs": [
    {
     "name": "stdout",
     "output_type": "stream",
     "text": [
      "🌟 Featured Playlists in Vietnam:\n"
     ]
    }
   ],
   "source": [
    "import requests\n",
    "\n",
    "# Cần token từ Spotify Developer Dashboard (Client Credentials Flow)\n",
    "def get_access_token(client_id, client_secret):\n",
    "    auth_url = 'https://accounts.spotify.com/api/token'\n",
    "    auth_response = requests.post(auth_url, {\n",
    "        'grant_type': 'client_credentials',\n",
    "        'client_id': client_id,\n",
    "        'client_secret': client_secret,\n",
    "    })\n",
    "\n",
    "    data = auth_response.json()\n",
    "    return data['access_token']\n",
    "\n",
    "\n",
    "def get_featured_playlists(token, country='VN', limit=5):\n",
    "    headers = {\n",
    "        'Authorization': f'Bearer {token}'\n",
    "    }\n",
    "    url = f'https://api.spotify.com/v1/browse/featured-playlists?country={country}&limit={limit}'\n",
    "    response = requests.get(url, headers=headers)\n",
    "    return response.json()\n",
    "\n",
    "\n",
    "# === Chạy thử ===\n",
    "if __name__ == '__main__':\n",
    "    # Điền thông tin từ Spotify Developer Dashboard\n",
    "    CLIENT_ID = '3ac00c95599a46228eaa42963f543fce'\n",
    "    CLIENT_SECRET = '3cd6e255c9b442bfa56e0e568751c10f'\n",
    "\n",
    "    token = get_access_token(CLIENT_ID, CLIENT_SECRET)\n",
    "    featured = get_featured_playlists(token, country='VN', limit=5)\n",
    "\n",
    "    print(\"🌟 Featured Playlists in Vietnam:\")\n",
    "  \n"
   ]
  },
  {
   "cell_type": "code",
   "execution_count": 4,
   "metadata": {},
   "outputs": [
    {
     "name": "stdout",
     "output_type": "stream",
     "text": [
      "{'external_urls': {'spotify': 'https://open.spotify.com/artist/0ixzjrK1wkN2zWBXt3VW3W'}, 'followers': {'href': None, 'total': 3047014}, 'genres': ['j-pop'], 'href': 'https://api.spotify.com/v1/artists/0ixzjrK1wkN2zWBXt3VW3W', 'id': '0ixzjrK1wkN2zWBXt3VW3W', 'images': [{'url': 'https://i.scdn.co/image/ab6761610000e5eb2f68be1a1a95221976c0fbba', 'height': 640, 'width': 640}, {'url': 'https://i.scdn.co/image/ab676161000051742f68be1a1a95221976c0fbba', 'height': 320, 'width': 320}, {'url': 'https://i.scdn.co/image/ab6761610000f1782f68be1a1a95221976c0fbba', 'height': 160, 'width': 160}], 'name': 'Yuuri', 'popularity': 69, 'type': 'artist', 'uri': 'spotify:artist:0ixzjrK1wkN2zWBXt3VW3W'}\n",
      "{'display_name': 'Paul', 'external_urls': {'spotify': 'https://open.spotify.com/user/plamere'}, 'followers': {'href': None, 'total': 303}, 'href': 'https://api.spotify.com/v1/users/plamere', 'id': 'plamere', 'images': [{'url': 'https://scontent-mrs2-1.xx.fbcdn.net/v/t39.30808-1/468885514_10161351285191091_471667234019430279_n.jpg?stp=dst-jpg_s320x320_tt6&_nc_cat=100&ccb=1-7&_nc_sid=79bf43&_nc_ohc=xHN_OEYY__YQ7kNvwEcyTp2&_nc_oc=AdmPFr8tFC22zOFwnEjRSH2FR3FFRobqtK1govl9Me-qf99AgxmN7lplizsZat6ZFLeD8YolNoRlY-fWfrG8ibO5&_nc_zt=24&_nc_ht=scontent-mrs2-1.xx&edm=AP4hL3IEAAAA&_nc_gid=rHuKEWrMW9HHH4Dhk_JkPQ&oh=00_AfMijwp21-KQytvtmC8KwZEqlanFpEiv77NcytOJa80MWQ&oe=685449D4', 'height': 300, 'width': 300}, {'url': 'https://scontent-mrs2-1.xx.fbcdn.net/v/t39.30808-1/468885514_10161351285191091_471667234019430279_n.jpg?stp=cp0_dst-jpg_s50x50_tt6&_nc_cat=100&ccb=1-7&_nc_sid=28885b&_nc_ohc=xHN_OEYY__YQ7kNvwEcyTp2&_nc_oc=AdmPFr8tFC22zOFwnEjRSH2FR3FFRobqtK1govl9Me-qf99AgxmN7lplizsZat6ZFLeD8YolNoRlY-fWfrG8ibO5&_nc_zt=24&_nc_ht=scontent-mrs2-1.xx&edm=AP4hL3IEAAAA&_nc_gid=rHuKEWrMW9HHH4Dhk_JkPQ&oh=00_AfNxwWIJwqezOuDM6BJhgWCtFjpITsmE9okIjVd1losYpw&oe=685449D4', 'height': 64, 'width': 64}], 'type': 'user', 'uri': 'spotify:user:plamere'}\n"
     ]
    }
   ],
   "source": [
    "import spotipy\n",
    "from spotipy.oauth2 import SpotifyClientCredentials\n",
    "sp = spotipy.Spotify(auth_manager=SpotifyClientCredentials(client_id=CLIENT_ID,\n",
    "                                                           client_secret=CLIENT_SECRET))\n",
    "\n",
    "urn = 'spotify:artist:0ixzjrK1wkN2zWBXt3VW3W'\n",
    "\n",
    "\n",
    "artist = sp.artist(urn)\n",
    "print(artist)\n",
    "\n",
    "user = sp.user('plamere')\n",
    "print(user)"
   ]
  },
  {
   "cell_type": "code",
   "execution_count": 5,
   "metadata": {},
   "outputs": [
    {
     "data": {
      "text/plain": [
       "{'external_urls': {'spotify': 'https://open.spotify.com/artist/0ixzjrK1wkN2zWBXt3VW3W'},\n",
       " 'followers': {'href': None, 'total': 3047014},\n",
       " 'genres': ['j-pop'],\n",
       " 'href': 'https://api.spotify.com/v1/artists/0ixzjrK1wkN2zWBXt3VW3W',\n",
       " 'id': '0ixzjrK1wkN2zWBXt3VW3W',\n",
       " 'images': [{'url': 'https://i.scdn.co/image/ab6761610000e5eb2f68be1a1a95221976c0fbba',\n",
       "   'height': 640,\n",
       "   'width': 640},\n",
       "  {'url': 'https://i.scdn.co/image/ab676161000051742f68be1a1a95221976c0fbba',\n",
       "   'height': 320,\n",
       "   'width': 320},\n",
       "  {'url': 'https://i.scdn.co/image/ab6761610000f1782f68be1a1a95221976c0fbba',\n",
       "   'height': 160,\n",
       "   'width': 160}],\n",
       " 'name': 'Yuuri',\n",
       " 'popularity': 69,\n",
       " 'type': 'artist',\n",
       " 'uri': 'spotify:artist:0ixzjrK1wkN2zWBXt3VW3W'}"
      ]
     },
     "execution_count": 5,
     "metadata": {},
     "output_type": "execute_result"
    }
   ],
   "source": [
    "artist"
   ]
  },
  {
   "cell_type": "code",
   "execution_count": null,
   "metadata": {},
   "outputs": [],
   "source": []
  },
  {
   "cell_type": "code",
   "execution_count": 7,
   "metadata": {},
   "outputs": [
    {
     "ename": "NameError",
     "evalue": "name 'SpotifyClientCredentials' is not defined",
     "output_type": "error",
     "traceback": [
      "\u001b[1;31m---------------------------------------------------------------------------\u001b[0m",
      "\u001b[1;31mNameError\u001b[0m                                 Traceback (most recent call last)",
      "Cell \u001b[1;32mIn[7], line 3\u001b[0m\n\u001b[0;32m      1\u001b[0m CLIENT_ID \u001b[38;5;241m=\u001b[39m \u001b[38;5;124m'\u001b[39m\u001b[38;5;124m3ac00c95599a46228eaa42963f543fce\u001b[39m\u001b[38;5;124m'\u001b[39m\n\u001b[0;32m      2\u001b[0m CLIENT_SECRET \u001b[38;5;241m=\u001b[39m \u001b[38;5;124m'\u001b[39m\u001b[38;5;124m3cd6e255c9b442bfa56e0e568751c10f\u001b[39m\u001b[38;5;124m'\u001b[39m\n\u001b[1;32m----> 3\u001b[0m sp \u001b[38;5;241m=\u001b[39m spotipy\u001b[38;5;241m.\u001b[39mSpotify(auth_manager\u001b[38;5;241m=\u001b[39m\u001b[43mSpotifyClientCredentials\u001b[49m(client_id\u001b[38;5;241m=\u001b[39mCLIENT_ID,\n\u001b[0;32m      4\u001b[0m                                                            client_secret\u001b[38;5;241m=\u001b[39mCLIENT_SECRET))\n\u001b[0;32m      5\u001b[0m playlists \u001b[38;5;241m=\u001b[39m sp\u001b[38;5;241m.\u001b[39mplaylist_tracks(playlist_id\u001b[38;5;241m=\u001b[39m\u001b[38;5;124m'\u001b[39m\u001b[38;5;124m3Bh8NRxbl652D7CzGukXS0\u001b[39m\u001b[38;5;124m'\u001b[39m)\n\u001b[0;32m      7\u001b[0m \u001b[38;5;66;03m# In thông tin các playlist\u001b[39;00m\n",
      "\u001b[1;31mNameError\u001b[0m: name 'SpotifyClientCredentials' is not defined"
     ]
    }
   ],
   "source": [
    "CLIENT_ID = '3ac00c95599a46228eaa42963f543fce'\n",
    "CLIENT_SECRET = '3cd6e255c9b442bfa56e0e568751c10f'\n",
    "sp = spotipy.Spotify(auth_manager=SpotifyClientCredentials(client_id=CLIENT_ID,\n",
    "                                                           client_secret=CLIENT_SECRET))\n",
    "playlists = sp.playlist_tracks(playlist_id='3Bh8NRxbl652D7CzGukXS0')\n",
    "\n",
    "# In thông tin các playlist\n",
    "for playlist in playlists['items']:\n",
    "    print(f\"Playlist: {playlist['name']}\")\n",
    "    print(f\"ID: {playlist['id']}\")\n",
    "    print(f\"Tracks: {playlist['tracks']['total']}\")\n",
    "    print(\"---\")"
   ]
  },
  {
   "cell_type": "code",
   "execution_count": 5,
   "metadata": {},
   "outputs": [
    {
     "ename": "NameError",
     "evalue": "name 'playlists' is not defined",
     "output_type": "error",
     "traceback": [
      "\u001b[1;31m---------------------------------------------------------------------------\u001b[0m",
      "\u001b[1;31mNameError\u001b[0m                                 Traceback (most recent call last)",
      "Cell \u001b[1;32mIn[5], line 1\u001b[0m\n\u001b[1;32m----> 1\u001b[0m \u001b[43mplaylists\u001b[49m\n",
      "\u001b[1;31mNameError\u001b[0m: name 'playlists' is not defined"
     ]
    }
   ],
   "source": [
    "playlists"
   ]
  },
  {
   "cell_type": "code",
   "execution_count": null,
   "metadata": {},
   "outputs": [],
   "source": [
    "https://developer.spotify.com/documentation/web-api/reference/search\n"
   ]
  }
 ],
 "metadata": {
  "kernelspec": {
   "display_name": "Python 3",
   "language": "python",
   "name": "python3"
  },
  "language_info": {
   "codemirror_mode": {
    "name": "ipython",
    "version": 3
   },
   "file_extension": ".py",
   "mimetype": "text/x-python",
   "name": "python",
   "nbconvert_exporter": "python",
   "pygments_lexer": "ipython3",
   "version": "3.9.13"
  }
 },
 "nbformat": 4,
 "nbformat_minor": 2
}
